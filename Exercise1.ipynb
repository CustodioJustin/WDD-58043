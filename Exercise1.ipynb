{
  "nbformat": 4,
  "nbformat_minor": 0,
  "metadata": {
    "colab": {
      "name": "Exercise1",
      "provenance": [],
      "collapsed_sections": [],
      "authorship_tag": "ABX9TyOZA9ocpTdEr1aPcQM7O9yI",
      "include_colab_link": true
    },
    "kernelspec": {
      "name": "python3",
      "display_name": "Python 3"
    },
    "language_info": {
      "name": "python"
    }
  },
  "cells": [
    {
      "cell_type": "markdown",
      "metadata": {
        "id": "view-in-github",
        "colab_type": "text"
      },
      "source": [
        "<a href=\"https://colab.research.google.com/github/CustodioJustin/Web-Design-and-Development-58043/blob/main/Exercise1.ipynb\" target=\"_parent\"><img src=\"https://colab.research.google.com/assets/colab-badge.svg\" alt=\"Open In Colab\"/></a>"
      ]
    },
    {
      "cell_type": "code",
      "execution_count": 6,
      "metadata": {
        "colab": {
          "base_uri": "https://localhost:8080/"
        },
        "id": "IoThHCRkXWL6",
        "outputId": "89c8adb8-833f-4200-ff20-06e881fd625a"
      },
      "outputs": [
        {
          "name": "stdout",
          "output_type": "stream",
          "text": [
            "Input a Radius Value of a Circle: \n",
            "2\n"
          ]
        },
        {
          "output_type": "execute_result",
          "data": {
            "text/plain": [
              "12.56636"
            ]
          },
          "metadata": {},
          "execution_count": 6
        }
      ],
      "source": [
        "# Computes the area of a circle using pi * r^2 formula\n",
        "# Custodio Justin Chyle C.\n",
        "\n",
        "def circleArea(Radius):\n",
        "  pi_value = 3.14159\n",
        "  c_area = (pi_value * (Radius ** 2))\n",
        "  return c_area\n",
        "\n",
        "print(\"Input a Radius Value of a Circle: \")\n",
        "c_radius = int(input(\"\"))\n",
        "\n",
        "circleArea(c_radius)"
      ]
    }
  ]
}