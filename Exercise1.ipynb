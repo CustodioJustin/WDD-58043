{
  "nbformat": 4,
  "nbformat_minor": 0,
  "metadata": {
    "colab": {
      "name": "Exercise1",
      "provenance": [],
      "collapsed_sections": [],
      "authorship_tag": "ABX9TyMWAhA/I8pFEgzQdSEPJBB1",
      "include_colab_link": true
    },
    "kernelspec": {
      "name": "python3",
      "display_name": "Python 3"
    },
    "language_info": {
      "name": "python"
    }
  },
  "cells": [
    {
      "cell_type": "markdown",
      "metadata": {
        "id": "view-in-github",
        "colab_type": "text"
      },
      "source": [
        "<a href=\"https://colab.research.google.com/github/CustodioJustin/Web-Design-and-Development-58043/blob/main/Exercise1.ipynb\" target=\"_parent\"><img src=\"https://colab.research.google.com/assets/colab-badge.svg\" alt=\"Open In Colab\"/></a>"
      ]
    },
    {
      "cell_type": "code",
      "execution_count": 4,
      "metadata": {
        "colab": {
          "base_uri": "https://localhost:8080/"
        },
        "id": "IoThHCRkXWL6",
        "outputId": "527cf087-49e4-4756-ef44-16967c362af4"
      },
      "outputs": [
        {
          "output_type": "stream",
          "name": "stdout",
          "text": [
            "Input a Radius value of a circle: 25\n",
            "1963.4937499999999\n"
          ]
        }
      ],
      "source": [
        "# Computes the area of a circle using pi * r^2 formula\n",
        "# Custodio Justin Chyle C.\n",
        "\n",
        "def circleArea(Radius):\n",
        "  pi_value = 3.14159\n",
        "  c_area = (pi_value * (Radius ** 2))\n",
        "  return c_area\n",
        "\n",
        "c_radius = int(input(\"Input a Radius value of a circle: \"))\n",
        "print(circleArea(c_radius))"
      ]
    }
  ]
}